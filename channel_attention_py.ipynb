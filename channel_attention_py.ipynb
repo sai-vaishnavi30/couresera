{
  "nbformat": 4,
  "nbformat_minor": 0,
  "metadata": {
    "colab": {
      "name": "channel_attention.py",
      "provenance": [],
      "collapsed_sections": [],
      "authorship_tag": "ABX9TyOJKSRUsEPNGHZNsqo0f9xU",
      "include_colab_link": true
    },
    "kernelspec": {
      "name": "python3",
      "display_name": "Python 3"
    },
    "language_info": {
      "name": "python"
    }
  },
  "cells": [
    {
      "cell_type": "markdown",
      "metadata": {
        "id": "view-in-github",
        "colab_type": "text"
      },
      "source": [
        "<a href=\"https://colab.research.google.com/github/sai-vaishnavi30/couresera/blob/master/channel_attention_py.ipynb\" target=\"_parent\"><img src=\"https://colab.research.google.com/assets/colab-badge.svg\" alt=\"Open In Colab\"/></a>"
      ]
    },
    {
      "cell_type": "code",
      "metadata": {
        "id": "F-khxbIhKp_e"
      },
      "source": [
        "from keras.layers import Activation, Reshape, Lambda, dot, add\n",
        "from keras.layers import Conv1D, Conv2D, Conv3D\n",
        "from keras.layers import MaxPool1D,GlobalAveragePooling2D,Dense,multiply,Activation,concatenate\n",
        "from keras import backend as K\n",
        "\n",
        "\n",
        "def squeeze_excitation_layer(x, out_dim, ratio = 4, concate = True):\n",
        "    '''\n",
        "    SE module performs inter-channel weighting.\n",
        "    '''\n",
        "    squeeze = GlobalAveragePooling2D()(x)\n",
        "\n",
        "    excitation = Dense(units=out_dim // ratio)(squeeze)\n",
        "    excitation = Activation('relu')(excitation)\n",
        "    excitation = Dense(units=out_dim)(excitation)\n",
        "    excitation = Activation('sigmoid')(excitation)\n",
        "    excitation = Reshape((1, 1, out_dim))(excitation)\n",
        "\n",
        "    scale = multiply([x, excitation])\n",
        "\n",
        "    if concate:\n",
        "        scale = concatenate([scale, x],axis=3)\n",
        "    return scale"
      ],
      "execution_count": 1,
      "outputs": []
    }
  ]
}